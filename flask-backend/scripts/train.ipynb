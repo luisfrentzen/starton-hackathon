{
 "cells": [
  {
   "cell_type": "code",
   "execution_count": 1,
   "source": [
    "import pandas as pd\r\n",
    "import re\r\n",
    "import numpy as np\r\n",
    "from nltk.corpus import stopwords\r\n",
    "from nltk.stem import PorterStemmer\r\n",
    "from sklearn.feature_extraction.text import TfidfVectorizer\r\n",
    "from sklearn.pipeline import Pipeline\r\n",
    "from sklearn.metrics import classification_report, confusion_matrix\r\n",
    "from sklearn.model_selection import train_test_split\r\n",
    "from sklearn.feature_selection import SelectKBest, chi2\r\n",
    "from sqlite3 import Error\r\n",
    "from sklearn.ensemble import RandomForestClassifier\r\n",
    "from sklearn.svm import LinearSVC\r\n",
    "from sklearn.naive_bayes import MultinomialNB, BernoulliNB\r\n",
    "from sklearn.linear_model import LogisticRegression\r\n",
    "import os\r\n",
    "import pickle"
   ],
   "outputs": [],
   "metadata": {}
  },
  {
   "cell_type": "code",
   "execution_count": 2,
   "source": [
    "data_path = '../../dataset'\r\n",
    "\r\n",
    "labels = []\r\n",
    "tokens = []\r\n",
    "\r\n",
    "titles = []\r\n",
    "\r\n",
    "for i, f in enumerate(os.listdir(data_path)):\r\n",
    "    full_path = f'{ data_path }/{ f }'\r\n",
    "    titles.append(f.split('.')[0])\r\n",
    "    \r\n",
    "    with open(full_path, 'r', encoding='utf8', errors='ignore') as infile:\r\n",
    "        for line in infile:\r\n",
    "            tokens.append(line.strip())\r\n",
    "            labels.append(i)\r\n",
    "\r\n",
    "df = pd.DataFrame(list(zip(tokens, labels)), columns=['sent', 'label'])"
   ],
   "outputs": [],
   "metadata": {}
  },
  {
   "cell_type": "code",
   "execution_count": 3,
   "source": [
    "df.sample(5)"
   ],
   "outputs": [
    {
     "output_type": "execute_result",
     "data": {
      "text/html": [
       "<div>\n",
       "<style scoped>\n",
       "    .dataframe tbody tr th:only-of-type {\n",
       "        vertical-align: middle;\n",
       "    }\n",
       "\n",
       "    .dataframe tbody tr th {\n",
       "        vertical-align: top;\n",
       "    }\n",
       "\n",
       "    .dataframe thead th {\n",
       "        text-align: right;\n",
       "    }\n",
       "</style>\n",
       "<table border=\"1\" class=\"dataframe\">\n",
       "  <thead>\n",
       "    <tr style=\"text-align: right;\">\n",
       "      <th></th>\n",
       "      <th>sent</th>\n",
       "      <th>label</th>\n",
       "    </tr>\n",
       "  </thead>\n",
       "  <tbody>\n",
       "    <tr>\n",
       "      <th>974</th>\n",
       "      <td>Web developers assess the needs of users for i...</td>\n",
       "      <td>3</td>\n",
       "    </tr>\n",
       "    <tr>\n",
       "      <th>2158</th>\n",
       "      <td>intelligent, motivated critical thinker, any a...</td>\n",
       "      <td>7</td>\n",
       "    </tr>\n",
       "    <tr>\n",
       "      <th>1647</th>\n",
       "      <td>protect a natural environment and raise awaren...</td>\n",
       "      <td>5</td>\n",
       "    </tr>\n",
       "    <tr>\n",
       "      <th>1372</th>\n",
       "      <td>IP or ingress protection</td>\n",
       "      <td>4</td>\n",
       "    </tr>\n",
       "    <tr>\n",
       "      <th>1104</th>\n",
       "      <td>Freelance developers enjoy higher wages and mo...</td>\n",
       "      <td>3</td>\n",
       "    </tr>\n",
       "  </tbody>\n",
       "</table>\n",
       "</div>"
      ],
      "text/plain": [
       "                                                   sent  label\n",
       "974   Web developers assess the needs of users for i...      3\n",
       "2158  intelligent, motivated critical thinker, any a...      7\n",
       "1647  protect a natural environment and raise awaren...      5\n",
       "1372                           IP or ingress protection      4\n",
       "1104  Freelance developers enjoy higher wages and mo...      3"
      ]
     },
     "metadata": {},
     "execution_count": 3
    }
   ],
   "metadata": {}
  },
  {
   "cell_type": "code",
   "execution_count": 4,
   "source": [
    "titles"
   ],
   "outputs": [
    {
     "output_type": "execute_result",
     "data": {
      "text/plain": [
       "['biotechnology',\n",
       " 'business_economics',\n",
       " 'chemical_engineering',\n",
       " 'computer_science',\n",
       " 'electrical_engineering',\n",
       " 'geography',\n",
       " 'hospitality_&_tourism',\n",
       " 'law_school',\n",
       " 'medical_school',\n",
       " 'visual_design']"
      ]
     },
     "metadata": {},
     "execution_count": 4
    }
   ],
   "metadata": {}
  },
  {
   "cell_type": "code",
   "execution_count": 5,
   "source": [
    "stemmer = PorterStemmer()\r\n",
    "stop_words = stopwords.words('english')\r\n",
    "\r\n",
    "df['cleaned'] = df['sent'].apply(lambda x: \" \".join([stemmer.stem(i) for i in re.sub(\"[^a-zA-Z]\", \" \", x).split() if i not in stop_words]).lower())"
   ],
   "outputs": [],
   "metadata": {}
  },
  {
   "cell_type": "code",
   "execution_count": 6,
   "source": [
    "df.sample(5)"
   ],
   "outputs": [
    {
     "output_type": "execute_result",
     "data": {
      "text/html": [
       "<div>\n",
       "<style scoped>\n",
       "    .dataframe tbody tr th:only-of-type {\n",
       "        vertical-align: middle;\n",
       "    }\n",
       "\n",
       "    .dataframe tbody tr th {\n",
       "        vertical-align: top;\n",
       "    }\n",
       "\n",
       "    .dataframe thead th {\n",
       "        text-align: right;\n",
       "    }\n",
       "</style>\n",
       "<table border=\"1\" class=\"dataframe\">\n",
       "  <thead>\n",
       "    <tr style=\"text-align: right;\">\n",
       "      <th></th>\n",
       "      <th>sent</th>\n",
       "      <th>label</th>\n",
       "      <th>cleaned</th>\n",
       "    </tr>\n",
       "  </thead>\n",
       "  <tbody>\n",
       "    <tr>\n",
       "      <th>1213</th>\n",
       "      <td>In cases of this description, PFC systems that...</td>\n",
       "      <td>4</td>\n",
       "      <td>in case descript pfc system retrofit detun oft...</td>\n",
       "    </tr>\n",
       "    <tr>\n",
       "      <th>2689</th>\n",
       "      <td>At its most basic level, visual communication ...</td>\n",
       "      <td>9</td>\n",
       "      <td>at basic level visual commun design formerli g...</td>\n",
       "    </tr>\n",
       "    <tr>\n",
       "      <th>1384</th>\n",
       "      <td>Also referred to as load flow, power flow is t...</td>\n",
       "      <td>4</td>\n",
       "      <td>also refer load flow power flow analysi appar ...</td>\n",
       "    </tr>\n",
       "    <tr>\n",
       "      <th>2899</th>\n",
       "      <td>Photography &amp; artwork: resolution, DPI, PPI, b...</td>\n",
       "      <td>9</td>\n",
       "      <td>photographi artwork resolut dpi ppi bleed trim...</td>\n",
       "    </tr>\n",
       "    <tr>\n",
       "      <th>1175</th>\n",
       "      <td>Even harmonics (2nd, 4th, 6th, etc.) as a rule...</td>\n",
       "      <td>4</td>\n",
       "      <td>even harmon nd th th etc rule occur due sudden...</td>\n",
       "    </tr>\n",
       "  </tbody>\n",
       "</table>\n",
       "</div>"
      ],
      "text/plain": [
       "                                                   sent  label  \\\n",
       "1213  In cases of this description, PFC systems that...      4   \n",
       "2689  At its most basic level, visual communication ...      9   \n",
       "1384  Also referred to as load flow, power flow is t...      4   \n",
       "2899  Photography & artwork: resolution, DPI, PPI, b...      9   \n",
       "1175  Even harmonics (2nd, 4th, 6th, etc.) as a rule...      4   \n",
       "\n",
       "                                                cleaned  \n",
       "1213  in case descript pfc system retrofit detun oft...  \n",
       "2689  at basic level visual commun design formerli g...  \n",
       "1384  also refer load flow power flow analysi appar ...  \n",
       "2899  photographi artwork resolut dpi ppi bleed trim...  \n",
       "1175  even harmon nd th th etc rule occur due sudden...  "
      ]
     },
     "metadata": {},
     "execution_count": 6
    }
   ],
   "metadata": {}
  },
  {
   "cell_type": "code",
   "execution_count": 7,
   "source": [
    "vectorizer = TfidfVectorizer(min_df= 3, stop_words=\"english\", sublinear_tf=True, norm='l2', ngram_range=(1, 2))\r\n",
    "final_features = vectorizer.fit_transform(df['cleaned']).toarray()\r\n",
    "final_features.shape"
   ],
   "outputs": [
    {
     "output_type": "execute_result",
     "data": {
      "text/plain": [
       "(2934, 2678)"
      ]
     },
     "metadata": {},
     "execution_count": 7
    }
   ],
   "metadata": {}
  },
  {
   "cell_type": "code",
   "execution_count": 8,
   "source": [
    "x = df['cleaned']\r\n",
    "y = df['label']\r\n",
    "x_train, x_test, y_train, y_test = train_test_split(x, y, test_size=0.25)"
   ],
   "outputs": [],
   "metadata": {}
  },
  {
   "cell_type": "code",
   "execution_count": 21,
   "source": [
    "v = 2\r\n",
    "cl = 'logistic'\r\n",
    "\r\n",
    "pipeline = Pipeline([('vect', vectorizer),\r\n",
    "                     ('chi',  SelectKBest(chi2, k=1700)),\r\n",
    "                     ('clf', LogisticRegression())])\r\n",
    "\r\n",
    "model = pipeline.fit(x_train, y_train)\r\n",
    "with open(f'{ cl }_model_v{ v }_c{ len(titles) }_e{ int(len(labels)/len(titles))}.pickle', 'wb') as f:\r\n",
    "    pickle.dump(model, f)\r\n",
    "\r\n",
    "ytest = np.array(y_test)"
   ],
   "outputs": [],
   "metadata": {}
  },
  {
   "cell_type": "code",
   "execution_count": 22,
   "source": [
    "print(classification_report(y_test, model.predict(x_test)))"
   ],
   "outputs": [
    {
     "output_type": "stream",
     "name": "stdout",
     "text": [
      "              precision    recall  f1-score   support\n",
      "\n",
      "           0       0.72      0.80      0.75        54\n",
      "           1       0.86      0.85      0.86        74\n",
      "           2       0.95      0.89      0.92        70\n",
      "           3       0.95      0.81      0.87        90\n",
      "           4       0.92      0.95      0.94        62\n",
      "           5       0.77      0.93      0.84        82\n",
      "           6       0.84      0.90      0.87        71\n",
      "           7       0.93      0.82      0.87        66\n",
      "           8       0.79      0.75      0.77        81\n",
      "           9       0.89      0.90      0.90        84\n",
      "\n",
      "    accuracy                           0.86       734\n",
      "   macro avg       0.86      0.86      0.86       734\n",
      "weighted avg       0.87      0.86      0.86       734\n",
      "\n"
     ]
    }
   ],
   "metadata": {}
  },
  {
   "cell_type": "code",
   "execution_count": 23,
   "source": [
    "confusion_matrix(y_test, model.predict(x_test))\r\n"
   ],
   "outputs": [
    {
     "output_type": "execute_result",
     "data": {
      "text/plain": [
       "array([[43,  0,  2,  0,  0,  1,  0,  1,  5,  2],\n",
       "       [ 2, 63,  0,  0,  0,  3,  4,  1,  0,  1],\n",
       "       [ 2,  0, 62,  0,  1,  1,  0,  0,  3,  1],\n",
       "       [ 3,  2,  0, 73,  2,  7,  1,  1,  0,  1],\n",
       "       [ 0,  0,  1,  1, 59,  1,  0,  0,  0,  0],\n",
       "       [ 0,  2,  0,  1,  1, 76,  0,  0,  0,  2],\n",
       "       [ 0,  2,  0,  1,  1,  0, 64,  0,  2,  1],\n",
       "       [ 0,  3,  0,  0,  0,  1,  3, 54,  4,  1],\n",
       "       [ 9,  1,  0,  1,  0,  5,  3,  1, 61,  0],\n",
       "       [ 1,  0,  0,  0,  0,  4,  1,  0,  2, 76]], dtype=int64)"
      ]
     },
     "metadata": {},
     "execution_count": 23
    }
   ],
   "metadata": {}
  },
  {
   "cell_type": "code",
   "execution_count": 24,
   "source": [
    "s = \"president jokowi is my idol. I like to learn about government, politician, and law\""
   ],
   "outputs": [],
   "metadata": {}
  },
  {
   "cell_type": "code",
   "execution_count": 25,
   "source": [
    "data = [s]\r\n",
    "prep_data = []\r\n",
    "\r\n",
    "for d in data:\r\n",
    "    d = [stemmer.stem(dt).lower() for dt in d.split(' ')]\r\n",
    "    d = [dt for dt in d if dt not in stop_words]\r\n",
    "    prep_data.append(' '.join(d))"
   ],
   "outputs": [],
   "metadata": {}
  },
  {
   "cell_type": "code",
   "execution_count": 26,
   "source": [
    "prep_data"
   ],
   "outputs": [
    {
     "output_type": "execute_result",
     "data": {
      "text/plain": [
       "['presid putin idol. like learn government, politician, law']"
      ]
     },
     "metadata": {},
     "execution_count": 26
    }
   ],
   "metadata": {}
  },
  {
   "cell_type": "code",
   "execution_count": 27,
   "source": [
    "res = model.predict(prep_data)\r\n",
    "lab_res = [titles[r] for r in res]\r\n",
    "\r\n",
    "for r in res:\r\n",
    "    print(titles[r])"
   ],
   "outputs": [
    {
     "output_type": "stream",
     "name": "stdout",
     "text": [
      "law_school\n"
     ]
    }
   ],
   "metadata": {}
  },
  {
   "cell_type": "code",
   "execution_count": 28,
   "source": [
    "model['clf'].class_log_prior_"
   ],
   "outputs": [
    {
     "output_type": "error",
     "ename": "AttributeError",
     "evalue": "'LogisticRegression' object has no attribute 'class_log_prior_'",
     "traceback": [
      "\u001b[1;31m---------------------------------------------------------------------------\u001b[0m",
      "\u001b[1;31mAttributeError\u001b[0m                            Traceback (most recent call last)",
      "\u001b[1;32m~\\AppData\\Local\\Temp/ipykernel_23660/1116760990.py\u001b[0m in \u001b[0;36m<module>\u001b[1;34m\u001b[0m\n\u001b[1;32m----> 1\u001b[1;33m \u001b[0mmodel\u001b[0m\u001b[1;33m[\u001b[0m\u001b[1;34m'clf'\u001b[0m\u001b[1;33m]\u001b[0m\u001b[1;33m.\u001b[0m\u001b[0mclass_log_prior_\u001b[0m\u001b[1;33m\u001b[0m\u001b[1;33m\u001b[0m\u001b[0m\n\u001b[0m",
      "\u001b[1;31mAttributeError\u001b[0m: 'LogisticRegression' object has no attribute 'class_log_prior_'"
     ]
    }
   ],
   "metadata": {}
  },
  {
   "cell_type": "code",
   "execution_count": 62,
   "source": [
    "model['clf'].n_features_"
   ],
   "outputs": [
    {
     "output_type": "execute_result",
     "data": {
      "text/plain": [
       "1700"
      ]
     },
     "metadata": {},
     "execution_count": 62
    }
   ],
   "metadata": {}
  },
  {
   "cell_type": "code",
   "execution_count": 17,
   "source": [
    "res = model.predict_proba(prep_data)\r\n",
    "\r\n",
    "print(res.round(2))"
   ],
   "outputs": [
    {
     "output_type": "stream",
     "name": "stdout",
     "text": [
      "[[0.04 0.08 0.03 0.1  0.05 0.08 0.05 0.44 0.08 0.06]]\n"
     ]
    }
   ],
   "metadata": {}
  },
  {
   "cell_type": "code",
   "execution_count": null,
   "source": [],
   "outputs": [],
   "metadata": {}
  }
 ],
 "metadata": {
  "orig_nbformat": 4,
  "language_info": {
   "name": "python",
   "version": "3.7.11",
   "mimetype": "text/x-python",
   "codemirror_mode": {
    "name": "ipython",
    "version": 3
   },
   "pygments_lexer": "ipython3",
   "nbconvert_exporter": "python",
   "file_extension": ".py"
  },
  "kernelspec": {
   "name": "python3",
   "display_name": "Python 3.7.11 64-bit ('starton-hackathon': conda)"
  },
  "interpreter": {
   "hash": "139f7776a1e9c3660a6f664ebedf53f0b59dfff3a8fd9f1cbba96f5d98a4e405"
  }
 },
 "nbformat": 4,
 "nbformat_minor": 2
}

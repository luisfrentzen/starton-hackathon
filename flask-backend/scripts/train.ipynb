{
 "cells": [
  {
   "cell_type": "code",
   "execution_count": 38,
   "source": [
    "import pandas as pd\r\n",
    "import re\r\n",
    "import numpy as np\r\n",
    "from nltk.corpus import stopwords\r\n",
    "from nltk.stem import PorterStemmer\r\n",
    "from sklearn.feature_extraction.text import TfidfVectorizer\r\n",
    "from sklearn.pipeline import Pipeline\r\n",
    "from sklearn.metrics import classification_report, confusion_matrix\r\n",
    "from sklearn.model_selection import train_test_split\r\n",
    "from sklearn.feature_selection import SelectKBest, chi2\r\n",
    "from sqlite3 import Error\r\n",
    "from sklearn.ensemble import RandomForestClassifier\r\n",
    "from sklearn.svm import LinearSVC\r\n",
    "from sklearn.naive_bayes import MultinomialNB, BernoulliNB\r\n",
    "from sklearn.linear_model import LogisticRegression\r\n",
    "import os\r\n",
    "import pickle"
   ],
   "outputs": [],
   "metadata": {}
  },
  {
   "cell_type": "code",
   "execution_count": 5,
   "source": [
    "data_path = '../../dataset'\r\n",
    "\r\n",
    "labels = []\r\n",
    "tokens = []\r\n",
    "\r\n",
    "titles = []\r\n",
    "\r\n",
    "for i, f in enumerate(os.listdir(data_path)):\r\n",
    "    full_path = f'{ data_path }/{ f }'\r\n",
    "    titles.append(f.split('.')[0])\r\n",
    "    \r\n",
    "    with open(full_path, 'r', encoding='utf8', errors='ignore') as infile:\r\n",
    "        for line in infile:\r\n",
    "            tokens.append(line.strip())\r\n",
    "            labels.append(i)\r\n",
    "\r\n",
    "df = pd.DataFrame(list(zip(tokens, labels)), columns=['sent', 'label'])"
   ],
   "outputs": [],
   "metadata": {}
  },
  {
   "cell_type": "code",
   "execution_count": 6,
   "source": [
    "df.sample(5)"
   ],
   "outputs": [
    {
     "output_type": "execute_result",
     "data": {
      "text/html": [
       "<div>\n",
       "<style scoped>\n",
       "    .dataframe tbody tr th:only-of-type {\n",
       "        vertical-align: middle;\n",
       "    }\n",
       "\n",
       "    .dataframe tbody tr th {\n",
       "        vertical-align: top;\n",
       "    }\n",
       "\n",
       "    .dataframe thead th {\n",
       "        text-align: right;\n",
       "    }\n",
       "</style>\n",
       "<table border=\"1\" class=\"dataframe\">\n",
       "  <thead>\n",
       "    <tr style=\"text-align: right;\">\n",
       "      <th></th>\n",
       "      <th>sent</th>\n",
       "      <th>label</th>\n",
       "    </tr>\n",
       "  </thead>\n",
       "  <tbody>\n",
       "    <tr>\n",
       "      <th>1185</th>\n",
       "      <td>Geographers examine qualitative and quantitati...</td>\n",
       "      <td>5</td>\n",
       "    </tr>\n",
       "    <tr>\n",
       "      <th>405</th>\n",
       "      <td>Every day we hear about economically related p...</td>\n",
       "      <td>1</td>\n",
       "    </tr>\n",
       "    <tr>\n",
       "      <th>944</th>\n",
       "      <td>The core is manufactured from a lamination of ...</td>\n",
       "      <td>4</td>\n",
       "    </tr>\n",
       "    <tr>\n",
       "      <th>1492</th>\n",
       "      <td>he domestic marine tourism market offers signi...</td>\n",
       "      <td>6</td>\n",
       "    </tr>\n",
       "    <tr>\n",
       "      <th>1383</th>\n",
       "      <td>Travel agents provide consulting services to c...</td>\n",
       "      <td>6</td>\n",
       "    </tr>\n",
       "  </tbody>\n",
       "</table>\n",
       "</div>"
      ],
      "text/plain": [
       "                                                   sent  label\n",
       "1185  Geographers examine qualitative and quantitati...      5\n",
       "405   Every day we hear about economically related p...      1\n",
       "944   The core is manufactured from a lamination of ...      4\n",
       "1492  he domestic marine tourism market offers signi...      6\n",
       "1383  Travel agents provide consulting services to c...      6"
      ]
     },
     "metadata": {},
     "execution_count": 6
    }
   ],
   "metadata": {}
  },
  {
   "cell_type": "code",
   "execution_count": 7,
   "source": [
    "titles"
   ],
   "outputs": [
    {
     "output_type": "execute_result",
     "data": {
      "text/plain": [
       "['biotechnology',\n",
       " 'business_economics',\n",
       " 'chemical_engineering',\n",
       " 'computer_science',\n",
       " 'electrical_engineering',\n",
       " 'geography',\n",
       " 'hospitality_&_tourism',\n",
       " 'law_school',\n",
       " 'medical_school',\n",
       " 'visual_design']"
      ]
     },
     "metadata": {},
     "execution_count": 7
    }
   ],
   "metadata": {}
  },
  {
   "cell_type": "code",
   "execution_count": 8,
   "source": [
    "stemmer = PorterStemmer()\r\n",
    "stop_words = stopwords.words('english')\r\n",
    "\r\n",
    "df['cleaned'] = df['sent'].apply(lambda x: \" \".join([stemmer.stem(i) for i in re.sub(\"[^a-zA-Z]\", \" \", x).split() if i not in stop_words]).lower())"
   ],
   "outputs": [],
   "metadata": {}
  },
  {
   "cell_type": "code",
   "execution_count": 9,
   "source": [
    "df.sample(5)"
   ],
   "outputs": [
    {
     "output_type": "execute_result",
     "data": {
      "text/html": [
       "<div>\n",
       "<style scoped>\n",
       "    .dataframe tbody tr th:only-of-type {\n",
       "        vertical-align: middle;\n",
       "    }\n",
       "\n",
       "    .dataframe tbody tr th {\n",
       "        vertical-align: top;\n",
       "    }\n",
       "\n",
       "    .dataframe thead th {\n",
       "        text-align: right;\n",
       "    }\n",
       "</style>\n",
       "<table border=\"1\" class=\"dataframe\">\n",
       "  <thead>\n",
       "    <tr style=\"text-align: right;\">\n",
       "      <th></th>\n",
       "      <th>sent</th>\n",
       "      <th>label</th>\n",
       "      <th>cleaned</th>\n",
       "    </tr>\n",
       "  </thead>\n",
       "  <tbody>\n",
       "    <tr>\n",
       "      <th>1709</th>\n",
       "      <td>When people think of lawyers, many envision so...</td>\n",
       "      <td>7</td>\n",
       "      <td>when peopl think lawyer mani envis someon argu...</td>\n",
       "    </tr>\n",
       "    <tr>\n",
       "      <th>1783</th>\n",
       "      <td>Attorneys have stood at the center of society ...</td>\n",
       "      <td>7</td>\n",
       "      <td>attorney stood center societi centuri</td>\n",
       "    </tr>\n",
       "    <tr>\n",
       "      <th>860</th>\n",
       "      <td>The sine component of the frequency f, known a...</td>\n",
       "      <td>4</td>\n",
       "      <td>the sine compon frequenc f known fundament com...</td>\n",
       "    </tr>\n",
       "    <tr>\n",
       "      <th>1357</th>\n",
       "      <td>The study of hospitality management covers imp...</td>\n",
       "      <td>6</td>\n",
       "      <td>the studi hospit manag cover import knowledg s...</td>\n",
       "    </tr>\n",
       "    <tr>\n",
       "      <th>1020</th>\n",
       "      <td>High currents will cause lines to sag, reducin...</td>\n",
       "      <td>4</td>\n",
       "      <td>high current caus line sag reduc ground cleara...</td>\n",
       "    </tr>\n",
       "  </tbody>\n",
       "</table>\n",
       "</div>"
      ],
      "text/plain": [
       "                                                   sent  label  \\\n",
       "1709  When people think of lawyers, many envision so...      7   \n",
       "1783  Attorneys have stood at the center of society ...      7   \n",
       "860   The sine component of the frequency f, known a...      4   \n",
       "1357  The study of hospitality management covers imp...      6   \n",
       "1020  High currents will cause lines to sag, reducin...      4   \n",
       "\n",
       "                                                cleaned  \n",
       "1709  when peopl think lawyer mani envis someon argu...  \n",
       "1783              attorney stood center societi centuri  \n",
       "860   the sine compon frequenc f known fundament com...  \n",
       "1357  the studi hospit manag cover import knowledg s...  \n",
       "1020  high current caus line sag reduc ground cleara...  "
      ]
     },
     "metadata": {},
     "execution_count": 9
    }
   ],
   "metadata": {}
  },
  {
   "cell_type": "code",
   "execution_count": 10,
   "source": [
    "vectorizer = TfidfVectorizer(min_df= 3, stop_words=\"english\", sublinear_tf=True, norm='l2', ngram_range=(1, 2))\r\n",
    "final_features = vectorizer.fit_transform(df['cleaned']).toarray()\r\n",
    "final_features.shape"
   ],
   "outputs": [
    {
     "output_type": "execute_result",
     "data": {
      "text/plain": [
       "(2303, 2241)"
      ]
     },
     "metadata": {},
     "execution_count": 10
    }
   ],
   "metadata": {}
  },
  {
   "cell_type": "code",
   "execution_count": 11,
   "source": [
    "x = df['cleaned']\r\n",
    "y = df['label']\r\n",
    "x_train, x_test, y_train, y_test = train_test_split(x, y, test_size=0.25)"
   ],
   "outputs": [],
   "metadata": {}
  },
  {
   "cell_type": "code",
   "execution_count": 52,
   "source": [
    "v = 1\r\n",
    "cl = 'mnb'\r\n",
    "\r\n",
    "pipeline = Pipeline([('vect', vectorizer),\r\n",
    "                     ('chi',  SelectKBest(chi2, k=1700)),\r\n",
    "                     ('clf', MultinomialNB())])\r\n",
    "\r\n",
    "model = pipeline.fit(x_train, y_train)\r\n",
    "with open(f'{ cl }_model_v{ v }_c{ len(titles) }_e{ int(len(labels)/len(titles))}.pickle', 'wb') as f:\r\n",
    "    pickle.dump(model, f)\r\n",
    "\r\n",
    "ytest = np.array(y_test)"
   ],
   "outputs": [],
   "metadata": {}
  },
  {
   "cell_type": "code",
   "execution_count": 49,
   "source": [
    "print(classification_report(y_test, model.predict(x_test)))"
   ],
   "outputs": [
    {
     "output_type": "stream",
     "name": "stdout",
     "text": [
      "              precision    recall  f1-score   support\n",
      "\n",
      "           0       0.83      0.83      0.83        58\n",
      "           1       1.00      0.82      0.90        49\n",
      "           2       0.98      0.81      0.89        53\n",
      "           3       0.91      0.89      0.90        47\n",
      "           4       0.90      0.92      0.91        71\n",
      "           5       0.79      0.94      0.86        52\n",
      "           6       0.87      0.92      0.89        64\n",
      "           7       0.93      0.90      0.91        70\n",
      "           8       0.80      0.93      0.86        60\n",
      "           9       0.94      0.87      0.90        52\n",
      "\n",
      "    accuracy                           0.89       576\n",
      "   macro avg       0.89      0.88      0.89       576\n",
      "weighted avg       0.89      0.89      0.89       576\n",
      "\n"
     ]
    }
   ],
   "metadata": {}
  },
  {
   "cell_type": "code",
   "execution_count": 50,
   "source": [
    "confusion_matrix(y_test, model.predict(x_test))\r\n"
   ],
   "outputs": [
    {
     "output_type": "execute_result",
     "data": {
      "text/plain": [
       "array([[48,  0,  0,  2,  3,  0,  1,  1,  3,  0],\n",
       "       [ 1, 40,  0,  0,  0,  0,  2,  4,  2,  0],\n",
       "       [ 2,  0, 43,  0,  1,  4,  1,  0,  2,  0],\n",
       "       [ 0,  0,  0, 42,  2,  0,  1,  0,  1,  1],\n",
       "       [ 1,  0,  0,  0, 65,  2,  0,  0,  2,  1],\n",
       "       [ 1,  0,  0,  1,  0, 49,  1,  0,  0,  0],\n",
       "       [ 2,  0,  0,  0,  0,  1, 59,  0,  2,  0],\n",
       "       [ 0,  0,  0,  0,  1,  3,  1, 63,  1,  1],\n",
       "       [ 0,  0,  0,  0,  0,  2,  2,  0, 56,  0],\n",
       "       [ 3,  0,  1,  1,  0,  1,  0,  0,  1, 45]], dtype=int64)"
      ]
     },
     "metadata": {},
     "execution_count": 50
    }
   ],
   "metadata": {}
  },
  {
   "cell_type": "code",
   "execution_count": 42,
   "source": [
    "s = \"president putin is my idol. I like to learn about government, politician, and law\""
   ],
   "outputs": [],
   "metadata": {}
  },
  {
   "cell_type": "code",
   "execution_count": 43,
   "source": [
    "data = [s]\r\n",
    "prep_data = []\r\n",
    "\r\n",
    "for d in data:\r\n",
    "    d = [stemmer.stem(dt).lower() for dt in d.split(' ')]\r\n",
    "    d = [dt for dt in d if dt not in stop_words]\r\n",
    "    prep_data.append(' '.join(d))"
   ],
   "outputs": [],
   "metadata": {}
  },
  {
   "cell_type": "code",
   "execution_count": 44,
   "source": [
    "prep_data"
   ],
   "outputs": [
    {
     "output_type": "execute_result",
     "data": {
      "text/plain": [
       "['presid putin is my idol. i like to learn about government, politician, and law']"
      ]
     },
     "metadata": {},
     "execution_count": 44
    }
   ],
   "metadata": {}
  },
  {
   "cell_type": "code",
   "execution_count": 55,
   "source": [
    "res = model.predict(prep_data)\r\n",
    "lab_res = [titles[r] for r in res]\r\n",
    "\r\n",
    "for r in res:\r\n",
    "    print(titles[r])"
   ],
   "outputs": [
    {
     "output_type": "stream",
     "name": "stdout",
     "text": [
      "law_school\n"
     ]
    }
   ],
   "metadata": {}
  },
  {
   "cell_type": "code",
   "execution_count": 58,
   "source": [
    "model['clf'].class_log_prior_"
   ],
   "outputs": [
    {
     "output_type": "execute_result",
     "data": {
      "text/plain": [
       "array([-2.19664571, -2.43686124, -2.46370849, -2.42370316, -2.26675527,\n",
       "       -2.16587405, -2.2283944 , -2.26118423, -2.19664571, -2.45019477])"
      ]
     },
     "metadata": {},
     "execution_count": 58
    }
   ],
   "metadata": {}
  },
  {
   "cell_type": "code",
   "execution_count": 62,
   "source": [
    "model['clf'].n_features_"
   ],
   "outputs": [
    {
     "output_type": "execute_result",
     "data": {
      "text/plain": [
       "1700"
      ]
     },
     "metadata": {},
     "execution_count": 62
    }
   ],
   "metadata": {}
  },
  {
   "cell_type": "code",
   "execution_count": 63,
   "source": [
    "res = model.predict_proba(prep_data)\r\n",
    "\r\n",
    "print(res.round(2))"
   ],
   "outputs": [
    {
     "output_type": "stream",
     "name": "stdout",
     "text": [
      "[[0.05 0.07 0.02 0.1  0.05 0.09 0.04 0.46 0.08 0.05]]\n"
     ]
    }
   ],
   "metadata": {}
  },
  {
   "cell_type": "code",
   "execution_count": null,
   "source": [],
   "outputs": [],
   "metadata": {}
  }
 ],
 "metadata": {
  "orig_nbformat": 4,
  "language_info": {
   "name": "python",
   "version": "3.7.1",
   "mimetype": "text/x-python",
   "codemirror_mode": {
    "name": "ipython",
    "version": 3
   },
   "pygments_lexer": "ipython3",
   "nbconvert_exporter": "python",
   "file_extension": ".py"
  },
  "kernelspec": {
   "name": "python3",
   "display_name": "Python 3.7.1 64-bit ('NLP3.7': conda)"
  },
  "interpreter": {
   "hash": "a25d9ec726c2f906df339f40f2795389ee6be876cd813197b3f1ad9319a6cddb"
  }
 },
 "nbformat": 4,
 "nbformat_minor": 2
}
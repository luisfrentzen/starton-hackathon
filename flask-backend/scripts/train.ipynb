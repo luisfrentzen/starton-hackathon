{
 "cells": [
  {
   "cell_type": "code",
   "execution_count": 23,
   "source": [
    "import pandas as pd\r\n",
    "import re\r\n",
    "import numpy as np\r\n",
    "from nltk.corpus import stopwords\r\n",
    "from nltk.stem import PorterStemmer\r\n",
    "from sklearn.feature_extraction.text import TfidfVectorizer\r\n",
    "from sklearn.pipeline import Pipeline\r\n",
    "from sklearn.metrics import classification_report, confusion_matrix\r\n",
    "from sklearn.model_selection import train_test_split\r\n",
    "from sklearn.feature_selection import SelectKBest, chi2\r\n",
    "from sqlite3 import Error\r\n",
    "from sklearn.ensemble import RandomForestClassifier\r\n",
    "import os\r\n",
    "import pickle"
   ],
   "outputs": [],
   "metadata": {}
  },
  {
   "cell_type": "code",
   "execution_count": 79,
   "source": [
    "data_path = '../../dataset'\r\n",
    "\r\n",
    "labels = []\r\n",
    "tokens = []\r\n",
    "\r\n",
    "titles = []\r\n",
    "\r\n",
    "for i, f in enumerate(os.listdir(data_path)):\r\n",
    "    full_path = f'{ data_path }/{ f }'\r\n",
    "    titles.append(f.split('.')[0])\r\n",
    "    \r\n",
    "    with open(full_path, 'r', encoding='utf8', errors='ignore') as infile:\r\n",
    "        for line in infile:\r\n",
    "            tokens.append(line.strip())\r\n",
    "            labels.append(i)\r\n",
    "\r\n",
    "df = pd.DataFrame(list(zip(tokens, labels)), columns=['sent', 'label'])"
   ],
   "outputs": [],
   "metadata": {}
  },
  {
   "cell_type": "code",
   "execution_count": 80,
   "source": [
    "df.sample(5)"
   ],
   "outputs": [
    {
     "output_type": "execute_result",
     "data": {
      "text/html": [
       "<div>\n",
       "<style scoped>\n",
       "    .dataframe tbody tr th:only-of-type {\n",
       "        vertical-align: middle;\n",
       "    }\n",
       "\n",
       "    .dataframe tbody tr th {\n",
       "        vertical-align: top;\n",
       "    }\n",
       "\n",
       "    .dataframe thead th {\n",
       "        text-align: right;\n",
       "    }\n",
       "</style>\n",
       "<table border=\"1\" class=\"dataframe\">\n",
       "  <thead>\n",
       "    <tr style=\"text-align: right;\">\n",
       "      <th></th>\n",
       "      <th>sent</th>\n",
       "      <th>label</th>\n",
       "    </tr>\n",
       "  </thead>\n",
       "  <tbody>\n",
       "    <tr>\n",
       "      <th>183</th>\n",
       "      <td>As a result, the term market economy refers to...</td>\n",
       "      <td>0</td>\n",
       "    </tr>\n",
       "    <tr>\n",
       "      <th>170</th>\n",
       "      <td>The word economy is Greek and means \"household...</td>\n",
       "      <td>0</td>\n",
       "    </tr>\n",
       "    <tr>\n",
       "      <th>80</th>\n",
       "      <td>focused on attracting new business and new cli...</td>\n",
       "      <td>0</td>\n",
       "    </tr>\n",
       "    <tr>\n",
       "      <th>551</th>\n",
       "      <td>Once you’ve got the basic IT skills down, look...</td>\n",
       "      <td>2</td>\n",
       "    </tr>\n",
       "    <tr>\n",
       "      <th>56</th>\n",
       "      <td>develop effectual reasoning.</td>\n",
       "      <td>0</td>\n",
       "    </tr>\n",
       "  </tbody>\n",
       "</table>\n",
       "</div>"
      ],
      "text/plain": [
       "                                                  sent  label\n",
       "183  As a result, the term market economy refers to...      0\n",
       "170  The word economy is Greek and means \"household...      0\n",
       "80   focused on attracting new business and new cli...      0\n",
       "551  Once you’ve got the basic IT skills down, look...      2\n",
       "56                        develop effectual reasoning.      0"
      ]
     },
     "metadata": {},
     "execution_count": 80
    }
   ],
   "metadata": {}
  },
  {
   "cell_type": "code",
   "execution_count": 81,
   "source": [
    "stemmer = PorterStemmer()\r\n",
    "stop_words = stopwords.words('english')\r\n",
    "\r\n",
    "df['cleaned'] = df['sent'].apply(lambda x: \" \".join([stemmer.stem(i) for i in re.sub(\"[^a-zA-Z]\", \" \", x).split() if i not in stop_words]).lower())"
   ],
   "outputs": [],
   "metadata": {}
  },
  {
   "cell_type": "code",
   "execution_count": 82,
   "source": [
    "df.sample(5)"
   ],
   "outputs": [
    {
     "output_type": "execute_result",
     "data": {
      "text/html": [
       "<div>\n",
       "<style scoped>\n",
       "    .dataframe tbody tr th:only-of-type {\n",
       "        vertical-align: middle;\n",
       "    }\n",
       "\n",
       "    .dataframe tbody tr th {\n",
       "        vertical-align: top;\n",
       "    }\n",
       "\n",
       "    .dataframe thead th {\n",
       "        text-align: right;\n",
       "    }\n",
       "</style>\n",
       "<table border=\"1\" class=\"dataframe\">\n",
       "  <thead>\n",
       "    <tr style=\"text-align: right;\">\n",
       "      <th></th>\n",
       "      <th>sent</th>\n",
       "      <th>label</th>\n",
       "      <th>cleaned</th>\n",
       "    </tr>\n",
       "  </thead>\n",
       "  <tbody>\n",
       "    <tr>\n",
       "      <th>656</th>\n",
       "      <td>I guide emerging designers to develop their vi...</td>\n",
       "      <td>3</td>\n",
       "      <td>i guid emerg design develop visual intuit i de...</td>\n",
       "    </tr>\n",
       "    <tr>\n",
       "      <th>223</th>\n",
       "      <td>The nucleus of an atom contains protons and ne...</td>\n",
       "      <td>1</td>\n",
       "      <td>the nucleu atom contain proton neutron</td>\n",
       "    </tr>\n",
       "    <tr>\n",
       "      <th>248</th>\n",
       "      <td>Liquids, solids, and gasses all may be mixed t...</td>\n",
       "      <td>1</td>\n",
       "      <td>liquid solid gass may mix form colloid dispers</td>\n",
       "    </tr>\n",
       "    <tr>\n",
       "      <th>29</th>\n",
       "      <td>include several introductory financial managem...</td>\n",
       "      <td>0</td>\n",
       "      <td>includ sever introductori financi manag cours ...</td>\n",
       "    </tr>\n",
       "    <tr>\n",
       "      <th>129</th>\n",
       "      <td>A dividend income stock will usually have a hi...</td>\n",
       "      <td>0</td>\n",
       "      <td>a dividend incom stock usual higher dividend y...</td>\n",
       "    </tr>\n",
       "  </tbody>\n",
       "</table>\n",
       "</div>"
      ],
      "text/plain": [
       "                                                  sent  label  \\\n",
       "656  I guide emerging designers to develop their vi...      3   \n",
       "223  The nucleus of an atom contains protons and ne...      1   \n",
       "248  Liquids, solids, and gasses all may be mixed t...      1   \n",
       "29   include several introductory financial managem...      0   \n",
       "129  A dividend income stock will usually have a hi...      0   \n",
       "\n",
       "                                               cleaned  \n",
       "656  i guid emerg design develop visual intuit i de...  \n",
       "223             the nucleu atom contain proton neutron  \n",
       "248     liquid solid gass may mix form colloid dispers  \n",
       "29   includ sever introductori financi manag cours ...  \n",
       "129  a dividend incom stock usual higher dividend y...  "
      ]
     },
     "metadata": {},
     "execution_count": 82
    }
   ],
   "metadata": {}
  },
  {
   "cell_type": "code",
   "execution_count": 83,
   "source": [
    "vectorizer = TfidfVectorizer(min_df= 3, stop_words=\"english\", sublinear_tf=True, norm='l2', ngram_range=(1, 2))\r\n",
    "final_features = vectorizer.fit_transform(df['cleaned']).toarray()\r\n",
    "final_features.shape"
   ],
   "outputs": [
    {
     "output_type": "execute_result",
     "data": {
      "text/plain": [
       "(801, 886)"
      ]
     },
     "metadata": {},
     "execution_count": 83
    }
   ],
   "metadata": {}
  },
  {
   "cell_type": "code",
   "execution_count": 84,
   "source": [
    "x = df['cleaned']\r\n",
    "y = df['label']\r\n",
    "x_train, x_test, y_train, y_test = train_test_split(x, y, test_size=0.25)"
   ],
   "outputs": [],
   "metadata": {}
  },
  {
   "cell_type": "code",
   "execution_count": 85,
   "source": [
    "pipeline = Pipeline([('vect', vectorizer),\r\n",
    "                     ('chi',  SelectKBest(chi2, k=600)),\r\n",
    "                     ('clf', RandomForestClassifier())])\r\n",
    "\r\n",
    "model = pipeline.fit(x_train, y_train)\r\n",
    "with open('RandomForest.pickle', 'wb') as f:\r\n",
    "    pickle.dump(model, f)\r\n",
    "\r\n",
    "ytest = np.array(y_test)"
   ],
   "outputs": [],
   "metadata": {}
  },
  {
   "cell_type": "code",
   "execution_count": 86,
   "source": [
    "classification_report(y_test, model.predict(x_test))"
   ],
   "outputs": [
    {
     "output_type": "execute_result",
     "data": {
      "text/plain": [
       "'              precision    recall  f1-score   support\\n\\n           0       0.66      0.98      0.79        47\\n           1       0.98      0.78      0.87        58\\n           2       0.93      0.91      0.92        44\\n           3       0.93      0.75      0.83        52\\n\\n    accuracy                           0.85       201\\n   macro avg       0.87      0.85      0.85       201\\nweighted avg       0.88      0.85      0.85       201\\n'"
      ]
     },
     "metadata": {},
     "execution_count": 86
    }
   ],
   "metadata": {}
  },
  {
   "cell_type": "code",
   "execution_count": 87,
   "source": [
    "confusion_matrix(y_test, model.predict(x_test))\r\n"
   ],
   "outputs": [
    {
     "output_type": "execute_result",
     "data": {
      "text/plain": [
       "array([[46,  0,  1,  0],\n",
       "       [ 9, 45,  1,  3],\n",
       "       [ 4,  0, 40,  0],\n",
       "       [11,  1,  1, 39]], dtype=int64)"
      ]
     },
     "metadata": {},
     "execution_count": 87
    }
   ],
   "metadata": {}
  },
  {
   "cell_type": "code",
   "execution_count": 120,
   "source": [
    "# s = ['I like to program and solve problems. I always excel at mathematics and problem solving. I would like to learn critical thinking.']\r\n",
    "s = ['I love chemical reactions that we do in laboratory and classes. I also want to learn about nuclear theories. Sometimes i add to much volume of electron in my solution']"
   ],
   "outputs": [],
   "metadata": {}
  },
  {
   "cell_type": "code",
   "execution_count": 121,
   "source": [
    "res = model.predict(s)\r\n",
    "lab_res = [titles[r] for r in res]\r\n",
    "\r\n",
    "for r in res:\r\n",
    "    print(titles[r])"
   ],
   "outputs": [
    {
     "output_type": "stream",
     "name": "stdout",
     "text": [
      "chemical_engineering\n"
     ]
    }
   ],
   "metadata": {}
  },
  {
   "cell_type": "code",
   "execution_count": null,
   "source": [],
   "outputs": [],
   "metadata": {}
  }
 ],
 "metadata": {
  "orig_nbformat": 4,
  "language_info": {
   "name": "python",
   "version": "3.7.11",
   "mimetype": "text/x-python",
   "codemirror_mode": {
    "name": "ipython",
    "version": 3
   },
   "pygments_lexer": "ipython3",
   "nbconvert_exporter": "python",
   "file_extension": ".py"
  },
  "kernelspec": {
   "name": "python3",
   "display_name": "Python 3.7.11 64-bit ('starton-hackathon': conda)"
  },
  "interpreter": {
   "hash": "75bd69696835c7cd5e8546844789fdbfaaa7569577ce0ff4a6598f8de0c37dd0"
  }
 },
 "nbformat": 4,
 "nbformat_minor": 2
}